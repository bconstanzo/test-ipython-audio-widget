{
 "cells": [
  {
   "cell_type": "markdown",
   "id": "b09c2702",
   "metadata": {},
   "source": [
    "# Test de audios .wav en un notebook\n",
    "Un repo muy simple para mostrar cómo se puede incluir un widget de audio para reproducir grabaciones directamente en el \"documento\". La idea es subirlo a GitHub y después poder abrirlo con Google Colab en cualquier plataforma.\n",
    "\n",
    "Primero, tenemos que cargar el widget de audio de IPython:"
   ]
  },
  {
   "cell_type": "code",
   "execution_count": 1,
   "id": "57bdb196",
   "metadata": {},
   "outputs": [],
   "source": [
    "from ipywidgets import Audio"
   ]
  },
  {
   "cell_type": "markdown",
   "id": "70246a89",
   "metadata": {},
   "source": [
    "Ahora alcanza con usar el método `from_file` y pasar el path al audio y algunos parámetros para controlar cómo se carga (y muestra) el archivo de sonido. "
   ]
  },
  {
   "cell_type": "code",
   "execution_count": 2,
   "id": "4611fd61",
   "metadata": {},
   "outputs": [
    {
     "data": {
      "application/vnd.jupyter.widget-view+json": {
       "model_id": "05e00aa215ff43d787562e4a3bcdf63b",
       "version_major": 2,
       "version_minor": 0
      },
      "text/plain": [
       "Audio(value=b'RIFF\\x90\\x82s\\x00WAVEfmt \\x10\\x00\\x00\\x00\\x01\\x00\\x02\\x00D\\xac\\x00\\x00\\x10\\xb1\\x02\\x00\\x04\\x00\\x…"
      ]
     },
     "metadata": {},
     "output_type": "display_data"
    }
   ],
   "source": [
    "Audio.from_file(\"Café Avellaneda - Snowball - Luciana De Gorgue.wav\", autoplay=False, loop=False)"
   ]
  },
  {
   "cell_type": "code",
   "execution_count": 3,
   "id": "1e74c553",
   "metadata": {},
   "outputs": [
    {
     "data": {
      "application/vnd.jupyter.widget-view+json": {
       "model_id": "cacbcbba76514cbca10a855026547802",
       "version_major": 2,
       "version_minor": 0
      },
      "text/plain": [
       "Audio(value=b'RIFF\\x906\\x83\\x00WAVEfmt \\x10\\x00\\x00\\x00\\x01\\x00\\x02\\x00D\\xac\\x00\\x00\\x10\\xb1\\x02\\x00\\x04\\x00\\x…"
      ]
     },
     "metadata": {},
     "output_type": "display_data"
    }
   ],
   "source": [
    "Audio.from_file(\"Café Avellaneda - Snowball - Mia Chianalino.wav\", autoplay=False, loop=False)"
   ]
  },
  {
   "cell_type": "code",
   "execution_count": null,
   "id": "8a3bc0e5",
   "metadata": {},
   "outputs": [],
   "source": []
  }
 ],
 "metadata": {
  "kernelspec": {
   "display_name": "Python 3 (ipykernel)",
   "language": "python",
   "name": "python3"
  },
  "language_info": {
   "codemirror_mode": {
    "name": "ipython",
    "version": 3
   },
   "file_extension": ".py",
   "mimetype": "text/x-python",
   "name": "python",
   "nbconvert_exporter": "python",
   "pygments_lexer": "ipython3",
   "version": "3.10.3"
  }
 },
 "nbformat": 4,
 "nbformat_minor": 5
}
