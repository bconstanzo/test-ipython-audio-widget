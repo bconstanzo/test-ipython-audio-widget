{
 "cells": [
  {
   "cell_type": "markdown",
   "id": "1c0e2772",
   "metadata": {},
   "source": [
    "# Test de audios .wav en un notebook\n",
    "Un repo muy simple para mostrar cómo se puede incluir un widget de audio para reproducir grabaciones directamente en el \"documento\". La idea es subirlo a GitHub y después poder abrirlo con Google Colab en cualquier plataforma.\n",
    "\n",
    "Para que todo funcione, primero tenemos que clonar el repo y cargar el widget de audio de IPython:"
   ]
  },
  {
   "cell_type": "code",
   "execution_count": null,
   "id": "ccc001c2",
   "metadata": {},
   "outputs": [],
   "source": [
    "!git clone https://github.com/bconstanzo/test-ipython-audio-widget.git\n",
    "from ipywidgets import Audio"
   ]
  },
  {
   "cell_type": "markdown",
   "id": "31fe2e9e",
   "metadata": {},
   "source": [
    "En Colab, los archivos van a quedar cargados en un directorio con el nombre del repo, así que tenemos que agregar ese path a todos los audios.\n",
    "\n",
    "Ahora alcanza con usar el método `from_file` y pasar el path al audio y algunos parámetros para controlar cómo se carga (y muestra) el archivo de sonido. "
   ]
  },
  {
   "cell_type": "code",
   "execution_count": null,
   "id": "e02b9421",
   "metadata": {},
   "outputs": [],
   "source": [
    "Audio.from_file(\"test-ipython-audio-widget/Café Avellaneda - Snowball - Luciana De Gorgue.wav\", autoplay=False, loop=False)"
   ]
  },
  {
   "cell_type": "code",
   "execution_count": null,
   "id": "ae96f1a1",
   "metadata": {},
   "outputs": [],
   "source": [
    "Audio.from_file(\"test-ipython-audio-widget/Café Avellaneda - Snowball - Mia Chianalino.wav\", autoplay=False, loop=False)"
   ]
  },
  {
   "cell_type": "code",
   "execution_count": null,
   "id": "f4e32272",
   "metadata": {},
   "outputs": [],
   "source": []
  }
 ],
 "metadata": {
  "kernelspec": {
   "display_name": "Python 3 (ipykernel)",
   "language": "python",
   "name": "python3"
  },
  "language_info": {
   "codemirror_mode": {
    "name": "ipython",
    "version": 3
   },
   "file_extension": ".py",
   "mimetype": "text/x-python",
   "name": "python",
   "nbconvert_exporter": "python",
   "pygments_lexer": "ipython3",
   "version": "3.10.3"
  }
 },
 "nbformat": 4,
 "nbformat_minor": 5
}
